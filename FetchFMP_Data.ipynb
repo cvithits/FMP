{
 "cells": [
  {
   "cell_type": "markdown",
   "id": "45744949-2f16-4bf4-ace9-4d1ad999d734",
   "metadata": {},
   "source": [
    "# Constant"
   ]
  },
  {
   "cell_type": "code",
   "execution_count": 1,
   "id": "c6e80a26-2ec0-475f-98b3-1b37d48eeb64",
   "metadata": {},
   "outputs": [],
   "source": [
    "import certifi\n",
    "import json\n",
    "import time\n",
    "import random\n",
    "import psycopg2\n",
    "import os\n",
    "from psycopg2.extras import execute_values\n",
    "\n",
    "API_KEY = \"f8fe2458856a3904f2a649ebf1e82a68\"\n",
    "PG_HOST = os.environ.get('POSTGRES_HOST','')\n",
    "PG_PORT = os.environ.get('POSTGRES_PORT','')\n",
    "PG_DB = os.environ.get('POSTGRES_DB','')\n",
    "PG_USER = os.environ.get('POSTGRES_USER','')\n",
    "PG_PASS = os.environ.get('POSTGRES_PASSWORD','')"
   ]
  },
  {
   "cell_type": "markdown",
   "id": "6bee307f-aeb8-48a6-9dbb-adfb024f6795",
   "metadata": {},
   "source": [
    "# Common library"
   ]
  },
  {
   "cell_type": "code",
   "execution_count": 2,
   "id": "a299974a-0bf1-44ec-a787-1641890d83a5",
   "metadata": {},
   "outputs": [],
   "source": [
    "try:\n",
    "    # For Python 3.0 and later\n",
    "    from urllib.request import urlopen\n",
    "except ImportError:\n",
    "    # Fall back to Python 2's urllib2\n",
    "    from urllib2 import urlopen\n",
    "\n",
    "\n",
    "def get_jsonparsed_data(url):\n",
    "    \"\"\"\n",
    "    Receive the content of ``url``, parse it as JSON and return the object.\n",
    "\n",
    "    Parameters\n",
    "    ----------\n",
    "    url : str\n",
    "\n",
    "    Returns\n",
    "    -------\n",
    "    dict\n",
    "    \"\"\"\n",
    "    response = urlopen(url, cafile=certifi.where())\n",
    "    data = response.read().decode(\"utf-8\")\n",
    "    time.sleep(1)\n",
    "    return json.loads(data)\n",
    "\n",
    "def emptyToNull(val):\n",
    "    if val:\n",
    "        return val\n",
    "    else:\n",
    "        return None\n",
    "\n",
    "def connectDB():\n",
    "    con = psycopg2.connect(user=PG_USER,\n",
    "                       password=PG_PASS,\n",
    "                       host=PG_HOST,\n",
    "                       port=PG_PORT,\n",
    "                       database=PG_DB)\n",
    "    return con"
   ]
  },
  {
   "cell_type": "markdown",
   "id": "5ae45788-ffe8-4e46-a039-5df4e8385c24",
   "metadata": {},
   "source": [
    "# Global variable"
   ]
  },
  {
   "cell_type": "code",
   "execution_count": 3,
   "id": "2529f970-5dfd-49e3-bd00-991c66610e5d",
   "metadata": {},
   "outputs": [],
   "source": [
    "dbCon=connectDB()\n",
    "dbCon.autocommit = True\n",
    "dbCur=dbCon.cursor()"
   ]
  },
  {
   "cell_type": "markdown",
   "id": "1b27f8fd-6254-464e-8843-d36eb136bb7d",
   "metadata": {},
   "source": [
    "# Get symbol list"
   ]
  },
  {
   "cell_type": "code",
   "execution_count": 4,
   "id": "2659d07b-b067-4fdb-99f6-2d9591336475",
   "metadata": {},
   "outputs": [
    {
     "name": "stderr",
     "output_type": "stream",
     "text": [
      "/home/glue_user/.local/lib/python3.7/site-packages/ipykernel_launcher.py:21: DeprecationWarning: cafile, capath and cadefault are deprecated, use a custom context instead.\n"
     ]
    }
   ],
   "source": [
    "url = (\"https://financialmodelingprep.com/api/v3/stock/list?apikey=\"+API_KEY)\n",
    "retDict = get_jsonparsed_data(url)\n",
    "symbol_dat = []\n",
    "\n",
    "if retDict:\n",
    "    for item in retDict[0:]:\n",
    "        symbol_dat.append((item.get('symbol'), item.get('name')))\n",
    "    execute_values(dbCur, \"INSERT INTO public.stock (symbol, stockname) VALUES %s ON CONFLICT (symbol) DO UPDATE SET stockname=EXCLUDED.stockname, updated_time=NOW()\", symbol_dat)\n",
    "#print(symbol_dat)"
   ]
  },
  {
   "cell_type": "markdown",
   "id": "aa2326d0-46cb-4b32-a6ef-afcf7c2162ab",
   "metadata": {},
   "source": [
    "# Get delisted companies"
   ]
  },
  {
   "cell_type": "code",
   "execution_count": 6,
   "id": "315c356f-cd39-4b7e-b887-bef4a5523d4e",
   "metadata": {},
   "outputs": [
    {
     "name": "stderr",
     "output_type": "stream",
     "text": [
      "/home/glue_user/.local/lib/python3.7/site-packages/ipykernel_launcher.py:21: DeprecationWarning: cafile, capath and cadefault are deprecated, use a custom context instead.\n"
     ]
    },
    {
     "name": "stdout",
     "output_type": "stream",
     "text": [
      "page: 0\n",
      "page: 1\n",
      "page: 2\n"
     ]
    }
   ],
   "source": [
    "startpage = 0\n",
    "maxpage = 3\n",
    "delistedCom_dat = []\n",
    "\n",
    "for page in range(startpage,  maxpage):\n",
    "    url = (\"https://financialmodelingprep.com/api/v3/delisted-companies?page=\"+str(page)+\"&apikey=\"+API_KEY)\n",
    "    retDict=get_jsonparsed_data(url)\n",
    "    if retDict:\n",
    "        print(\"page:\", page)\n",
    "        for item in retDict:\n",
    "            symbol = item.get('symbol')\n",
    "            symbol_list = [x[0] for x in symbol_dat]\n",
    "            if symbol in symbol_list:\n",
    "                delistedCom_dat.append((item.get('symbol'), item.get('companyName'), item.get('exchange'), item.get('ipoDate'), item.get('delistedDate')))\n",
    "        execute_values(dbCur, \"INSERT INTO public.delistedcompany (symbolid, companyname, exchange, ipodate, delisteddate) VALUES %s ON CONFLICT ON CONSTRAINT delistedcompany_uq\\\n",
    "        DO UPDATE SET  companyname=EXCLUDED.companyname, exchange=EXCLUDED.exchange, ipodate=EXCLUDED.ipodate, delisteddate=EXCLUDED.delisteddate, updated_time=NOW()\", delistedCom_dat)\n",
    "    else:\n",
    "        break"
   ]
  },
  {
   "cell_type": "markdown",
   "id": "226da869-6dbd-4566-a900-9915f7d0265e",
   "metadata": {},
   "source": [
    "# Get historical dividends"
   ]
  },
  {
   "cell_type": "code",
   "execution_count": 7,
   "id": "63b629e8-4e34-4995-ad9a-2d5de2cdf8c2",
   "metadata": {},
   "outputs": [
    {
     "name": "stderr",
     "output_type": "stream",
     "text": [
      "/home/glue_user/.local/lib/python3.7/site-packages/ipykernel_launcher.py:21: DeprecationWarning: cafile, capath and cadefault are deprecated, use a custom context instead.\n"
     ]
    }
   ],
   "source": [
    "dividend_dat = []\n",
    "for symbol, symbolName in symbol_dat[0:]:\n",
    "    url = (\"https://financialmodelingprep.com/api/v3/historical-price-full/stock_dividend/\"+symbol+\"?apikey=\"+API_KEY)\n",
    "    retDict = get_jsonparsed_data(url)\n",
    "    if retDict:\n",
    "        for item in retDict.get('historical'):\n",
    "            dividend_dat.append((symbol, item.get('date'), item.get('label'), item.get('adjDividend'), item.get('dividend'), emptyToNull(item.get('recordDate')), emptyToNull(item.get('paymentDate')), emptyToNull(item.get('declarationDate'))))\n",
    "        #print(dividend_dat)\n",
    "        execute_values(dbCur, \"INSERT INTO public.historicaldividend (symbolid, dividenddate, label, adjdividend, dividend, recorddate, paymentdate, declarationdate) VALUES %s ON CONFLICT  ON CONSTRAINT historicaldividend_uq  \\\n",
    "        DO UPDATE SET dividenddate=EXCLUDED.dividenddate, label=EXCLUDED.label, adjdividend=EXCLUDED.adjdividend, dividend=EXCLUDED.dividend, recorddate=EXCLUDED.recorddate, paymentdate=EXCLUDED.paymentdate, declarationdate=EXCLUDED.declarationdate, updated_time=NOW()\", dividend_dat)\n",
    "    else:\n",
    "        break"
   ]
  },
  {
   "cell_type": "markdown",
   "id": "01851fa1-c95d-4585-b46a-b7640d2470f6",
   "metadata": {},
   "source": [
    "# Clean whatever we need to"
   ]
  },
  {
   "cell_type": "code",
   "execution_count": 9,
   "id": "8e131af3-3719-4b0b-bfb7-24697c505ad5",
   "metadata": {},
   "outputs": [],
   "source": [
    "dbCur.close()\n",
    "dbCon.close()"
   ]
  }
 ],
 "metadata": {
  "kernelspec": {
   "display_name": "Python 3",
   "language": "python",
   "name": "python3"
  },
  "language_info": {
   "codemirror_mode": {
    "name": "ipython",
    "version": 3
   },
   "file_extension": ".py",
   "mimetype": "text/x-python",
   "name": "python",
   "nbconvert_exporter": "python",
   "pygments_lexer": "ipython3",
   "version": "3.7.10"
  },
  "toc-autonumbering": true
 },
 "nbformat": 4,
 "nbformat_minor": 5
}
