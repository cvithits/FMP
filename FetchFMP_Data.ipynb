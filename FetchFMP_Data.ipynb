{
 "cells": [
  {
   "cell_type": "markdown",
   "id": "45744949-2f16-4bf4-ace9-4d1ad999d734",
   "metadata": {},
   "source": [
    "# Constant"
   ]
  },
  {
   "cell_type": "code",
   "execution_count": 34,
   "id": "c6e80a26-2ec0-475f-98b3-1b37d48eeb64",
   "metadata": {},
   "outputs": [],
   "source": [
    "import certifi\n",
    "import json\n",
    "import time\n",
    "import random\n",
    "import psycopg2\n",
    "import os\n",
    "\n",
    "API_KEY = \"f8fe2458856a3904f2a649ebf1e82a68\"\n",
    "PG_HOST = os.environ.get('POSTGRES_HOST','')\n",
    "PG_PORT = os.environ.get('POSTGRES_PORT','')\n",
    "PG_DB = os.environ.get('POSTGRES_DB','')\n",
    "PG_USER = os.environ.get('POSTGRES_USER','')\n",
    "PG_PASS = os.environ.get('POSTGRES_PASSWORD','')"
   ]
  },
  {
   "cell_type": "markdown",
   "id": "6bee307f-aeb8-48a6-9dbb-adfb024f6795",
   "metadata": {},
   "source": [
    "# Common library"
   ]
  },
  {
   "cell_type": "code",
   "execution_count": 31,
   "id": "a299974a-0bf1-44ec-a787-1641890d83a5",
   "metadata": {},
   "outputs": [
    {
     "ename": "ModuleNotFoundError",
     "evalue": "No module named 'psycopg2'",
     "output_type": "error",
     "traceback": [
      "\u001b[0;31m---------------------------------------------------------------------------\u001b[0m",
      "\u001b[0;31mModuleNotFoundError\u001b[0m                       Traceback (most recent call last)",
      "\u001b[0;32m<ipython-input-31-e245af17c3f7>\u001b[0m in \u001b[0;36m<module>\u001b[0;34m\u001b[0m\n\u001b[1;32m      3\u001b[0m \u001b[0;32mimport\u001b[0m \u001b[0mtime\u001b[0m\u001b[0;34m\u001b[0m\u001b[0;34m\u001b[0m\u001b[0m\n\u001b[1;32m      4\u001b[0m \u001b[0;32mimport\u001b[0m \u001b[0mrandom\u001b[0m\u001b[0;34m\u001b[0m\u001b[0;34m\u001b[0m\u001b[0m\n\u001b[0;32m----> 5\u001b[0;31m \u001b[0;32mimport\u001b[0m \u001b[0mpsycopg2\u001b[0m\u001b[0;34m\u001b[0m\u001b[0;34m\u001b[0m\u001b[0m\n\u001b[0m\u001b[1;32m      6\u001b[0m \u001b[0;32mimport\u001b[0m \u001b[0mos\u001b[0m\u001b[0;34m\u001b[0m\u001b[0;34m\u001b[0m\u001b[0m\n\u001b[1;32m      7\u001b[0m \u001b[0;34m\u001b[0m\u001b[0m\n",
      "\u001b[0;31mModuleNotFoundError\u001b[0m: No module named 'psycopg2'"
     ]
    }
   ],
   "source": [
    "try:\n",
    "    # For Python 3.0 and later\n",
    "    from urllib.request import urlopen\n",
    "except ImportError:\n",
    "    # Fall back to Python 2's urllib2\n",
    "    from urllib2 import urlopen\n",
    "\n",
    "\n",
    "def get_jsonparsed_data(url):\n",
    "    \"\"\"\n",
    "    Receive the content of ``url``, parse it as JSON and return the object.\n",
    "\n",
    "    Parameters\n",
    "    ----------\n",
    "    url : str\n",
    "\n",
    "    Returns\n",
    "    -------\n",
    "    dict\n",
    "    \"\"\"\n",
    "    response = urlopen(url, cafile=certifi.where())\n",
    "    data = response.read().decode(\"utf-8\")\n",
    "    time.sleep(1)\n",
    "    return json.loads(data)\n",
    "\n",
    "def connectDB():\n",
    "    con = psycopg2.connect(user=PG_USER,\n",
    "                       password=PG_PASS,\n",
    "                       host=PG_HOST,\n",
    "                       port=PG_PORT,\n",
    "                       database=PG_DB)\n",
    "    return con\n",
    "\n",
    "def executeSQLParm(con, param):\n",
    "    cur = con.cursor()\n",
    "    cur.executemany(\"\"\"INSERT INTO bar(first_name,last_name) VALUES (%(first_name)s, %(last_name)s)\"\"\", param)\n",
    "    records = cur.fetchall()\n",
    "    cur.close()\n",
    "    return records\n",
    "\n",
    "dbCon=connectDB()"
   ]
  },
  {
   "cell_type": "markdown",
   "id": "1b27f8fd-6254-464e-8843-d36eb136bb7d",
   "metadata": {},
   "source": [
    "# Get symbol list"
   ]
  },
  {
   "cell_type": "code",
   "execution_count": 29,
   "id": "2659d07b-b067-4fdb-99f6-2d9591336475",
   "metadata": {},
   "outputs": [
    {
     "name": "stderr",
     "output_type": "stream",
     "text": [
      "/home/glue_user/.local/lib/python3.7/site-packages/ipykernel_launcher.py:26: DeprecationWarning: cafile, capath and cadefault are deprecated, use a custom context instead.\n"
     ]
    },
    {
     "ename": "NameError",
     "evalue": "name 'symbol_lsit' is not defined",
     "output_type": "error",
     "traceback": [
      "\u001b[0;31m---------------------------------------------------------------------------\u001b[0m",
      "\u001b[0;31mNameError\u001b[0m                                 Traceback (most recent call last)",
      "\u001b[0;32m<ipython-input-29-9679b5e47e4d>\u001b[0m in \u001b[0;36m<module>\u001b[0;34m\u001b[0m\n\u001b[1;32m     10\u001b[0m \u001b[0mrandom\u001b[0m\u001b[0;34m.\u001b[0m\u001b[0mshuffle\u001b[0m\u001b[0;34m(\u001b[0m\u001b[0msymbol_list\u001b[0m\u001b[0;34m)\u001b[0m\u001b[0;34m\u001b[0m\u001b[0;34m\u001b[0m\u001b[0m\n\u001b[1;32m     11\u001b[0m \u001b[0msymbol_list\u001b[0m\u001b[0;34m=\u001b[0m\u001b[0msymbol_list\u001b[0m\u001b[0;34m[\u001b[0m\u001b[0;36m0\u001b[0m\u001b[0;34m:\u001b[0m\u001b[0;36m3\u001b[0m\u001b[0;34m]\u001b[0m\u001b[0;34m\u001b[0m\u001b[0;34m\u001b[0m\u001b[0m\n\u001b[0;32m---> 12\u001b[0;31m \u001b[0mprint\u001b[0m\u001b[0;34m(\u001b[0m\u001b[0msymbol_lsit\u001b[0m\u001b[0;34m)\u001b[0m\u001b[0;34m\u001b[0m\u001b[0;34m\u001b[0m\u001b[0m\n\u001b[0m",
      "\u001b[0;31mNameError\u001b[0m: name 'symbol_lsit' is not defined"
     ]
    }
   ],
   "source": [
    "url = (\"https://financialmodelingprep.com/api/v3/stock/list?apikey=\"+API_KEY)\n",
    "#url =(\"https://financialmodelingprep.com/api/v3/stock/list?apikey=f8fe2458856a3904f2a649ebf1e82a68\")\n",
    "retDict=get_jsonparsed_data(url)\n",
    "symbol_list = []\n",
    "\n",
    "for item in retDict:\n",
    "    symbol_list.append(item.get('symbol'))\n",
    "\n",
    "# Save request quotas\n",
    "random.shuffle(symbol_list)\n",
    "symbol_list=symbol_list[0:3]\n",
    "print(symbol_list)"
   ]
  },
  {
   "cell_type": "markdown",
   "id": "aa2326d0-46cb-4b32-a6ef-afcf7c2162ab",
   "metadata": {},
   "source": [
    "# Get delisted companies"
   ]
  },
  {
   "cell_type": "code",
   "execution_count": 25,
   "id": "315c356f-cd39-4b7e-b887-bef4a5523d4e",
   "metadata": {},
   "outputs": [
    {
     "name": "stderr",
     "output_type": "stream",
     "text": [
      "/home/glue_user/.local/lib/python3.7/site-packages/ipykernel_launcher.py:25: DeprecationWarning: cafile, capath and cadefault are deprecated, use a custom context instead.\n"
     ]
    },
    {
     "name": "stdout",
     "output_type": "stream",
     "text": [
      "0\n",
      "1\n",
      "2\n",
      "3\n",
      "4\n",
      "5\n",
      "6\n",
      "7\n",
      "8\n",
      "9\n",
      "10\n",
      "11\n",
      "12\n",
      "13\n",
      "14\n",
      "15\n",
      "16\n",
      "17\n",
      "18\n",
      "19\n",
      "20\n",
      "21\n",
      "22\n",
      "23\n",
      "24\n",
      "25\n",
      "26\n",
      "27\n",
      "28\n",
      "29\n",
      "30\n",
      "31\n",
      "32\n",
      "33\n",
      "34\n",
      "35\n",
      "36\n",
      "37\n",
      "38\n",
      "39\n",
      "40\n",
      "41\n",
      "42\n",
      "43\n",
      "44\n",
      "45\n",
      "46\n",
      "47\n",
      "48\n",
      "49\n",
      "50\n",
      "51\n",
      "52\n",
      "53\n",
      "54\n",
      "55\n",
      "56\n"
     ]
    }
   ],
   "source": [
    "startpage=0\n",
    "maxpage=6\n",
    "\n",
    "for page in range(startpage,  maxpage):\n",
    "    url = (\"https://financialmodelingprep.com/api/v3/delisted-companies?page=\"+str(page)+\"&apikey=\"+API_KEY)\n",
    "    retDict=get_jsonparsed_data(url)\n",
    "    if retDict:\n",
    "        print(page)\n",
    "        #for item in retDict:\n",
    "            #print(item.get('companyName'))\n",
    "    else:\n",
    "        break"
   ]
  },
  {
   "cell_type": "markdown",
   "id": "226da869-6dbd-4566-a900-9915f7d0265e",
   "metadata": {},
   "source": [
    "# Get historical dividends"
   ]
  },
  {
   "cell_type": "code",
   "execution_count": 26,
   "id": "63b629e8-4e34-4995-ad9a-2d5de2cdf8c2",
   "metadata": {},
   "outputs": [
    {
     "name": "stderr",
     "output_type": "stream",
     "text": [
      "/home/glue_user/.local/lib/python3.7/site-packages/ipykernel_launcher.py:25: DeprecationWarning: cafile, capath and cadefault are deprecated, use a custom context instead.\n"
     ]
    },
    {
     "name": "stdout",
     "output_type": "stream",
     "text": [
      "SPY\n",
      "CMCSA\n"
     ]
    }
   ],
   "source": [
    "for symbol in symbol_list[0:2]:\n",
    "    url = (\"https://financialmodelingprep.com/api/v3/historical-price-full/stock_dividend/\"+symbol+\"?apikey=\"+API_KEY)\n",
    "    retDict=get_jsonparsed_data(url)\n",
    "    print(retDict.get('symbol'))"
   ]
  },
  {
   "cell_type": "markdown",
   "id": "01851fa1-c95d-4585-b46a-b7640d2470f6",
   "metadata": {},
   "source": [
    "# Clean whatever we need to"
   ]
  },
  {
   "cell_type": "code",
   "execution_count": null,
   "id": "8e131af3-3719-4b0b-bfb7-24697c505ad5",
   "metadata": {},
   "outputs": [],
   "source": [
    "dbCon.close()"
   ]
  }
 ],
 "metadata": {
  "kernelspec": {
   "display_name": "Python 3",
   "language": "python",
   "name": "python3"
  },
  "language_info": {
   "codemirror_mode": {
    "name": "ipython",
    "version": 3
   },
   "file_extension": ".py",
   "mimetype": "text/x-python",
   "name": "python",
   "nbconvert_exporter": "python",
   "pygments_lexer": "ipython3",
   "version": "3.7.10"
  },
  "toc-autonumbering": true
 },
 "nbformat": 4,
 "nbformat_minor": 5
}
